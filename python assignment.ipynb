{
 "cells": [
  {
   "cell_type": "code",
   "execution_count": 13,
   "id": "b87ee569",
   "metadata": {},
   "outputs": [],
   "source": [
    "def make_shirt(shirt_size,message):\n",
    "    print('t-shirt is preparing')\n",
    "    print(f\"size of the t-shirt is {shirt_size}\")\n",
    "    print(f\"shirt has a message that is {message.title()}\")"
   ]
  },
  {
   "cell_type": "code",
   "execution_count": 14,
   "id": "bbea2f23",
   "metadata": {},
   "outputs": [
    {
     "name": "stdout",
     "output_type": "stream",
     "text": [
      "t-shirt is preparing\n",
      "size of the t-shirt is 34\n",
      "shirt has a message that is Stay Home Stay Safe\n"
     ]
    }
   ],
   "source": [
    "make_shirt('34','stay home stay safe')"
   ]
  },
  {
   "cell_type": "code",
   "execution_count": 15,
   "id": "e76446b2",
   "metadata": {},
   "outputs": [
    {
     "name": "stdout",
     "output_type": "stream",
     "text": [
      "t-shirt is preparing\n",
      "size of the t-shirt is 32\n",
      "shirt has a message that is Stay Home Stay Safe\n"
     ]
    }
   ],
   "source": [
    "make_shirt(shirt_size='32',message='stay home stay safe')"
   ]
  },
  {
   "cell_type": "code",
   "execution_count": 17,
   "id": "d847e44f",
   "metadata": {},
   "outputs": [],
   "source": [
    "def make_shirt(shirt_size,message1,message2='i love python'):\n",
    "    print(f\"size of the shirt is large\")\n",
    "    print(f\"message on the shirt is {message2}\")\n",
    "    print(f\"size of the shirt is medium\")\n",
    "    print(f\"message on the shirt is{message2}\")\n",
    "    print(f\"size of the shirt is {shirt_size}\")\n",
    "    print(f\"message of the shirt is {message1}\")"
   ]
  },
  {
   "cell_type": "code",
   "execution_count": 18,
   "id": "1cbf885e",
   "metadata": {},
   "outputs": [
    {
     "name": "stdout",
     "output_type": "stream",
     "text": [
      "size of the shirt is large\n",
      "message on the shirt is i love python\n",
      "size of the shirt is medium\n",
      "message on the shirt isi love python\n",
      "size of the shirt is 30\n",
      "message of the shirt is be happy\n"
     ]
    }
   ],
   "source": [
    "make_shirt('30','be happy')"
   ]
  },
  {
   "cell_type": "code",
   "execution_count": 30,
   "id": "0c89fd28",
   "metadata": {},
   "outputs": [],
   "source": [
    "def describe_city(city,country):\n",
    "    print(\"Reykjavik is an island\")\n",
    "    print(f\"{city} is in {country}\")"
   ]
  },
  {
   "cell_type": "code",
   "execution_count": 31,
   "id": "141ffa81",
   "metadata": {},
   "outputs": [
    {
     "name": "stdout",
     "output_type": "stream",
     "text": [
      "Reykjavik is an island\n",
      "hyderabad is in india\n"
     ]
    }
   ],
   "source": [
    "describe_city('hyderabad','india')"
   ]
  },
  {
   "cell_type": "code",
   "execution_count": 32,
   "id": "e6f89eff",
   "metadata": {},
   "outputs": [
    {
     "name": "stdout",
     "output_type": "stream",
     "text": [
      "Reykjavik is an island\n",
      "bangalore is in india\n"
     ]
    }
   ],
   "source": [
    "describe_city('bangalore','india')"
   ]
  },
  {
   "cell_type": "code",
   "execution_count": 33,
   "id": "b10c0810",
   "metadata": {},
   "outputs": [
    {
     "name": "stdout",
     "output_type": "stream",
     "text": [
      "Reykjavik is an island\n",
      "ongole is in andhra pradesh\n"
     ]
    }
   ],
   "source": [
    "describe_city('ongole','andhra pradesh')"
   ]
  },
  {
   "cell_type": "code",
   "execution_count": null,
   "id": "fb775c0f",
   "metadata": {},
   "outputs": [],
   "source": []
  }
 ],
 "metadata": {
  "kernelspec": {
   "display_name": "Python 3",
   "language": "python",
   "name": "python3"
  },
  "language_info": {
   "codemirror_mode": {
    "name": "ipython",
    "version": 3
   },
   "file_extension": ".py",
   "mimetype": "text/x-python",
   "name": "python",
   "nbconvert_exporter": "python",
   "pygments_lexer": "ipython3",
   "version": "3.8.8"
  }
 },
 "nbformat": 4,
 "nbformat_minor": 5
}
